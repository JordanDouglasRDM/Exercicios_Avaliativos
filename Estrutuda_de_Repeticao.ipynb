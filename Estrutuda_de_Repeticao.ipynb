{
  "nbformat": 4,
  "nbformat_minor": 0,
  "metadata": {
    "colab": {
      "provenance": [],
      "collapsed_sections": [],
      "include_colab_link": true
    },
    "kernelspec": {
      "name": "python3",
      "display_name": "Python 3"
    }
  },
  "cells": [
    {
      "cell_type": "markdown",
      "metadata": {
        "id": "view-in-github",
        "colab_type": "text"
      },
      "source": [
        "<a href=\"https://colab.research.google.com/github/JordanDouglasRDM/Avaliacao_nivel_iniciante/blob/main/P1_Python_Alg_n.ipynb\" target=\"_parent\"><img src=\"https://colab.research.google.com/assets/colab-badge.svg\" alt=\"Open In Colab\"/></a>"
      ]
    },
    {
      "cell_type": "markdown",
      "metadata": {
        "id": "kHK95nR3pf6N"
      },
      "source": [
        "##**P1**\n",
        "\n",
        "##**Caso use a estrutura de repetição \"for\", poderá usar o operador in, a função len, range, print, int, float, input, apenas. Vetor/matriz e nenhuma outra função pronta de Python, será aceita.** \n",
        "\n",
        "\n",
        " \n"
      ]
    },
    {
      "cell_type": "markdown",
      "metadata": {
        "id": "F4BMOu6SWWNV"
      },
      "source": [
        "###[2,00 pontos] **1.** Utilize a linguagem de programação PYTHON. Crie um programa que leia o ano de nascimento de uma pessoa e o ano atual, calcule e mostre a idade da pessoa em:\n",
        "a) anos\n",
        "\n",
        "b) meses\n",
        "\n"
      ]
    },
    {
      "cell_type": "code",
      "metadata": {
        "id": "uLE2w6-aMadI",
        "colab": {
          "base_uri": "https://localhost:8080/"
        },
        "outputId": "7ede8afc-233a-449c-c515-eb0dd2c89b4d"
      },
      "source": [
        "ano_nascimento = int(input('Informe o seu ano de nascimento: '))\n",
        "idade_anos = 2022 - ano_nascimento\n",
        "idade_meses = idade_anos * 12\n",
        "print(F'Você tem {idade_anos} anos idade.')\n",
        "print(F'Ou {idade_meses} meses de idade.')"
      ],
      "execution_count": null,
      "outputs": [
        {
          "output_type": "stream",
          "name": "stdout",
          "text": [
            "Informe o seu ano de nascimento: 1942\n",
            "Você tem 80 anos idade.\n",
            "Ou 960 meses de idade.\n"
          ]
        }
      ]
    },
    {
      "cell_type": "markdown",
      "metadata": {
        "id": "_q0kBpMGMbRF"
      },
      "source": [
        "###**2.** Utilize a linguagem de programação PYTHON. Crie um programa que leia o salário de um funcionário. Calcule e apresente os seguintes itens:\n",
        "a) Valor descontado do INSS (Instituto Nacional do Seguro Social)\n",
        "\n",
        "b) Valor descontado do IRPF (Imposto de Renda Pessoa física)  \n",
        "\n",
        "c) Valor do salário líquido\n",
        "\n",
        "\n",
        "SALÁRIO R$ |  Alíquota INSS % |\n",
        " ---|---\n",
        "até 1212.00  |\t7.50  |\n",
        "de 1212.01 até 2427.35\t| 9.00 |\n",
        "de 2427.36 até 3641.03\t| 12.00 |\n",
        "de 3641.03 até 7087.22  | 14.00|\n",
        "Acima 7087.22 | R\\$ 828.38|\n",
        "\n",
        "Observação: o valor R$ 828.38 é fixo para qualquer valor de salário acima de R\\$ 7087.22, conhecido como teto do INSS.\n",
        "\n",
        "Para calcular o valor a ser descontado do IRPF, deve-se usar o salário já descontado do INSS.\n",
        "\n",
        "Base de cálculo\t R$ |  Alíquota IR % | Parcela a deduzir do IRPF R\\$|\n",
        " ---|---|---\n",
        "até 1903.98  |\t-  | 0.00\n",
        "de 1903.99 até 2826.65\t| 7.50  | 142.80\n",
        "de 2826.66 até 3751.05\t| 15.00 | 354.80\n",
        "de 3751.06 até 4664.68  | 22.50 | 631.13\n",
        "Acima  4664.68 | 27.50| 869.36\n",
        "\n",
        "Exemplo: \n",
        "\n",
        "    salário: 3000.00 - 12%\n",
        "    inss = 360.00\n",
        "    Salário descontado do INSS 2640.00 * 7.50\n",
        "    ir -> 198.00 - 142.80 = 55.20\n",
        "    Salário líquido = 2584.80"
      ]
    },
    {
      "cell_type": "code",
      "metadata": {
        "id": "dLfbF5UpXgsB",
        "colab": {
          "base_uri": "https://localhost:8080/"
        },
        "outputId": "61289872-4c54-4306-f5ea-db9c4a03111d"
      },
      "source": [
        "salario = float(input('Informe o seu salário bruto: '))\n",
        "if salario <= 1212:\n",
        "    inss = salario * 0.075\n",
        "    salario_inss = salario - inss\n",
        "elif salario >= 1212.01 and salario <= 2427.35:\n",
        "    inss = salario * 0.09\n",
        "    salario_inss = salario - inss\n",
        "elif salario >= 2427.36 and salario <= 3641.03:\n",
        "    inss = salario * 0.12\n",
        "    salario_inss = salario - inss\n",
        "elif salario >= 3641.04 and salario <= 7087.22:\n",
        "    inss = salario * 0.14\n",
        "    salario_inss = salario - inss\n",
        "elif salario > 7087.22:\n",
        "    inss = 828.38\n",
        "    salario_inss = salario - inss\n",
        "if salario_inss <= 1903.98:\n",
        "    irpf = 0\n",
        "    salario_fim = salario_inss - 0\n",
        "elif salario_inss >= 1903.99 and salario <= 2826.65:\n",
        "    irpf = (salario_inss * 0.075) - 142.8\n",
        "    salario_fim = salario_inss - irpf\n",
        "elif salario_inss >= 2826.66 and salario <= 3751.05:\n",
        "    irpf = (salario_inss * 0.15) - 354.8\n",
        "    salario_fim = salario_inss - irpf\n",
        "elif salario_inss >= 3751.06 and salario <= 4664.68:\n",
        "    irpf = (salario_inss * 0.225) - 631.13\n",
        "    salario_fim = salario_inss - irpf\n",
        "elif salario_inss > 4664.68:\n",
        "    irpf = (salario_inss * 0.275) - 869.36\n",
        "    salario_fim = salario_inss - irpf\n",
        "print('\\n\\n')\n",
        "print(F'O valor descontado do INSS é R${inss:.2f}')\n",
        "print(F'O valor descontado do IRPF é R${irpf:.2f}')\n",
        "print(F'o salário líquido é de R${salario_fim:.2f}')"
      ],
      "execution_count": null,
      "outputs": [
        {
          "output_type": "stream",
          "name": "stdout",
          "text": [
            "Informe o seu salário bruto: 7090\n",
            "\n",
            "\n",
            "\n",
            "O valor descontado do INSS é R$828.38\n",
            "O valor descontado do IRPF é R$852.59\n",
            "o salário líquido é de R$5409.03\n"
          ]
        }
      ]
    },
    {
      "cell_type": "markdown",
      "metadata": {
        "id": "JLn72PkmbG36"
      },
      "source": [
        "###**3.** Utilize a linguagem de programação PYTHON. Crie um programa que leia o salário de 10 funcionários. Escolha a estrutura de repetição. Calcule e apresente:\n",
        "###a) Média de salários pagos acima de 2000 reais;\n",
        "###b) Quantos funcionários ganham até 2000."
      ]
    },
    {
      "cell_type": "code",
      "metadata": {
        "id": "1D5198t_bJmY",
        "colab": {
          "base_uri": "https://localhost:8080/"
        },
        "outputId": "ae71add3-cfed-479a-b0f0-738d984ea3fb"
      },
      "source": [
        "soma_salario = 0\n",
        "cont_salario = 0\n",
        "cont_menor = 0\n",
        "for i in range(1,11):\n",
        "    salario_lido = float(input(F'Informe o salario do {i}° funcionário: '))\n",
        "    if salario_lido > 2000:\n",
        "        soma_salario = soma_salario + salario_lido\n",
        "        cont_salario = cont_salario + 1\n",
        "    elif salario_lido <= 2000:\n",
        "          cont_menor = cont_menor + 1\n",
        "media_salario = soma_salario / cont_salario\n",
        "    \n",
        "print('\\n\\n')\n",
        "print(F'{cont_menor} funcionários recebem um valor menor que R$2000,00.')\n",
        "print(F'A média dos salários que ultrapassam os R$2000,00 é R${media_salario:.2f}')"
      ],
      "execution_count": null,
      "outputs": [
        {
          "output_type": "stream",
          "name": "stdout",
          "text": [
            "Informe o salario do 1° funcionário: 1234\n",
            "Informe o salario do 2° funcionário: 1235\n",
            "Informe o salario do 3° funcionário: 1236\n",
            "Informe o salario do 4° funcionário: 1237\n",
            "Informe o salario do 5° funcionário: 1238\n",
            "Informe o salario do 6° funcionário: 3214\n",
            "Informe o salario do 7° funcionário: 3211\n",
            "Informe o salario do 8° funcionário: 7890\n",
            "Informe o salario do 9° funcionário: 1830\n",
            "Informe o salario do 10° funcionário: 2450\n",
            "\n",
            "\n",
            "\n",
            "6 funcionários recebem um valor menor que R$2000,00.\n",
            "A média dos salários que ultrapassam os R$2000,00 é R$4191.25\n"
          ]
        }
      ]
    }
  ]
}
