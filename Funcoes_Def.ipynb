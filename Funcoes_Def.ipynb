{
  "nbformat": 4,
  "nbformat_minor": 0,
  "metadata": {
    "colab": {
      "provenance": [],
      "include_colab_link": true
    },
    "kernelspec": {
      "name": "python3",
      "display_name": "Python 3"
    }
  },
  "cells": [
    {
      "cell_type": "markdown",
      "metadata": {
        "id": "view-in-github",
        "colab_type": "text"
      },
      "source": [
        "<a href=\"https://colab.research.google.com/github/JordanDouglasRDM/Exercicios_Avaliativos/blob/main/Funcoes_Def.ipynb\" target=\"_parent\"><img src=\"https://colab.research.google.com/assets/colab-badge.svg\" alt=\"Open In Colab\"/></a>"
      ]
    },
    {
      "cell_type": "markdown",
      "metadata": {
        "id": "kHK95nR3pf6N"
      },
      "source": [
        "##**P1 - 2º. semestre/2022 -  Término: 22:00**\n",
        "## É uma prova de consulta ao seu material e vale 6 pontos.\n",
        "## **Apenas verificarei** o desenvolvimento dos exercícios de cada aluno, **EM OUTRO DIA**. \n",
        "\n",
        "##Caso entregue atrasado não será aceita a prova. \n",
        "##Depois de terminada a prova, você NÃO PODE MAIS ALTERAR O ARQUIVO DELA, essa ação fica registrada e assim a prova será anulada.\n",
        "##Na próxima aula será realizada a correção da prova.\n",
        "______________________________________________________\n",
        "\n",
        "\n",
        " \n"
      ]
    },
    {
      "cell_type": "markdown",
      "source": [
        ". [2,00 pontos] O recebimento de produtos comprados por um hipermercado, é distribuído de forma igualitaria, 8 caixas de produtos em cada palete, para serem armazenados no depósito. O resto das caixas são colocadas nas gondolas. \n",
        "\n",
        "###Crie uma função/método (sem parâmetro) utilizando a linguagem Python, que calcule e apresente a quantidade de paletes necessários. Retorne o resto da quantidade de caixas.\n",
        "\n",
        "###Implemente outra função/método (com parâmetro) que calcule e apresente, do resto das caixas a quantidade de produtos que serão colocados nas gondolas. Cada caixa tem 12 produtos.\n",
        "\n",
        "###Utilize a função main() para a chamada das funções.\n",
        "\n",
        "**Lembrete, na função que tem parâmetro, este, neste caso, na programação, é chamado de PASSAGEM DE PARÂMETRO POR VALOR.**\n",
        "\n",
        "*Curiosidade*: Palete é um estrado de madeira, metal ou plástico que é utilizado para empilhar ou transportar materiais por meio de empilhadeiras.\n"
      ],
      "metadata": {
        "id": "LHXY2C1P_x8J"
      }
    },
    {
      "cell_type": "code",
      "metadata": {
        "id": "dLfbF5UpXgsB",
        "colab": {
          "base_uri": "https://localhost:8080/"
        },
        "outputId": "8c7acf8f-bfbd-4879-ff37-f134fd4a2eeb"
      },
      "source": [
        "def quantidade_paletes():\n",
        "    qtde_caixas = int(input('Informe o volume total de caixas: '))\n",
        "    qtde_paletes = int(qtde_caixas / 8)\n",
        "    print(f'\\nSerão necessários {qtde_paletes} paletes para transportar o produto! ')\n",
        "    return qtde_caixas % 8\n",
        "def para_gondola(qtde):\n",
        "    produtos = int(qtde * 12)\n",
        "    if qtde == 0:\n",
        "        print('\\nTodas as caixas estão alocadas nos paletes, portanto, não sobrará produtos para por nas gondolas.')\n",
        "    else:\n",
        "        print(f'{produtos} produtos serão colocados nas gondolas.')\n",
        "def main():\n",
        "    para_gondola(quantidade_paletes())\n",
        "main()"
      ],
      "execution_count": null,
      "outputs": [
        {
          "output_type": "stream",
          "name": "stdout",
          "text": [
            "Informe o volume total de caixas: 98\n",
            "\n",
            "Serão necessários 12 paletes para transportar o produto! \n",
            "24 produtos serão colocados nas gondolas.\n"
          ]
        }
      ]
    },
    {
      "cell_type": "markdown",
      "source": [
        "###2. [1,50 ponto] Faça uma função que receba como parâmetro uma frase, conte e apresente:\n",
        "a) quantas vogais;\n",
        "\n",
        "b) quantas consoantes;\n",
        "\n",
        "c) e quantos números tem na frase.\n",
        "\n",
        "**Lembrete, quando um parâmetro é um vetor, este na programação, é chamado de PASSAGEM DE PARÂMETRO POR REFERÊNCIA.**"
      ],
      "metadata": {
        "id": "L1M47ClD4QtH"
      }
    },
    {
      "cell_type": "code",
      "metadata": {
        "id": "uLE2w6-aMadI",
        "colab": {
          "base_uri": "https://localhost:8080/"
        },
        "outputId": "e7a983f3-381e-4ae9-e8a0-ece68c0017a7"
      },
      "source": [
        "def verifica_palavra(verificar):\n",
        "    cont_num = 0\n",
        "    cont_vog = 0\n",
        "    cont_space = 0\n",
        "    vogais = ['A','E','I','O','U']\n",
        "    for i in range(len(verificar)):\n",
        "        if verificar[i].isdecimal():\n",
        "            cont_num += 1\n",
        "        elif verificar[i].isalpha():\n",
        "            if verificar[i] in vogais:\n",
        "                cont_vog += 1\n",
        "        elif verificar[i] == ' ' or verificar[i] == ',' or verificar[i] == '.': #retirado somente os pontos mais recorrentes em uma frase, pois o exercício não especifica se haverá caracteres especiais ou não.\n",
        "                cont_space += 1\n",
        "        consoantes = len(verificar) - (cont_vog + cont_num) - cont_space\n",
        "    print(f'A)...Existem {cont_vog} vogais na frase.')\n",
        "    print(f'B)...Existem {consoantes} consoantes na frase.')\n",
        "    print(f'C)...Existem {cont_num} numero(s) na frase.')\n",
        "def main():\n",
        "    frase = input('Informe uma frase, contendo letras e/ou números. ')\n",
        "    verifica_palavra(frase.upper())\n",
        "main()"
      ],
      "execution_count": null,
      "outputs": [
        {
          "output_type": "stream",
          "name": "stdout",
          "text": [
            "Informe uma frase, contendo letras e/ou números. jordan  54\n",
            "A)...Existem 2 vogais na frase.\n",
            "B)...Existem 4 consoantes na frase.\n",
            "C)...Existem 2 numero(s) na frase.\n"
          ]
        }
      ]
    },
    {
      "cell_type": "markdown",
      "metadata": {
        "id": "JLn72PkmbG36"
      },
      "source": [
        "###3. [2,50 pontos] O IPVA (Imposto sobre a Propriedade de Veículos Automotores) no estado de São Paulo, possui valor de alíquota de imposto variável de acordo com o tipo de veículo automotor.\n",
        "\n",
        "###Crie uma função que receba como parâmetro o valor do veículo e uma letra, F, ou E, ou C, ou M, ou O, ou A, a função retornará a porcentagem para auxiliar o cálculo do item b). Para esta verificação, siga a instrução do governo para cada tipo de veículo automotor: **F**lex => 4%, **E**létrico => 3%, **C**aminhonete => 2%, **M**oto => 2%, **O**nibus => 2%, c**A**minhao 1.5%.\n",
        "\n",
        "###Dependendo do ano de fabricação, pode ocorrer isenção de IPVA, ou seja, não é pago nada, referente a este imposto. O estado de São Paulo concede isenção a partir de 20 anos de fabricação.\n",
        "\n",
        "###Atendendo a 10 proprietários de automóveis, a partir dos anos de fabricação, tipo de veículo automotor e dos valores dos carros, crie um programa que atenda cada item a seguir, na main() calcule e apresente:\n",
        "a) Quantidade de veículos automotores isentos.\n",
        "\n",
        "b) Valor do IPVA de veículo automotor, use a função requerida.\n",
        "\n",
        "c) Média de valores dos veículos automotores.\n",
        "\n",
        "d) Total dos IPVAs pagos.\n",
        "\n",
        "##Não use vetor/matriz.\n",
        "\n",
        "Curiosidade: O valor do veículo geralmente é avaliado pela tabela FIPE (Fundação Instituto de Pesquisas Econômicas)."
      ]
    },
    {
      "cell_type": "code",
      "metadata": {
        "id": "1D5198t_bJmY",
        "colab": {
          "base_uri": "https://localhost:8080/"
        },
        "outputId": "30794bc7-51e6-459f-fb5f-126d6d2d5d68"
      },
      "source": [
        "def tipo_carro(opcao):\n",
        "    if opcao == 'F':\n",
        "        return 0.04\n",
        "    elif opcao == 'E':\n",
        "        return 0.03\n",
        "    elif opcao == 'C':\n",
        "        return 0.03\n",
        "    elif opcao == 'M':\n",
        "        return 0.02\n",
        "    elif opcao == 'O':\n",
        "        return 0.02\n",
        "    elif opcao == 'A':\n",
        "        return 0.015\n",
        "def main():\n",
        "    proprietarios = 4\n",
        "    somaValorCarro = 0\n",
        "    contIsento = 0\n",
        "    somaIpva = 0\n",
        "    for i in range(proprietarios):\n",
        "        valorCarro = 0\n",
        "        anoFab = int(input(f'Informe o ano de fabricação do {i+1}° veículo: '))\n",
        "        if anoFab < 2003:\n",
        "            contIsento += 1\n",
        "            print('Veículo isento de IPVA.')\n",
        "            valorCarro = float(input(f'Informe o valor do {i+1}° veículo: '))\n",
        "        else:\n",
        "            opcaoVeic = input(f'Informe o tipo do {i+1}° veículo (F,C,M,O,A): ')\n",
        "            porcentagemIpva  = tipo_carro(opcaoVeic.upper())\n",
        "            valorCarro = float(input(f'Informe o valor do {i+1}° veículo: '))\n",
        "            ipva = valorCarro * porcentagemIpva\n",
        "            somaIpva = somaIpva + ipva \n",
        "            print(f'\\nb)....O IPVA do {i+1}° veículo é: {ipva:.2f}\\n')\n",
        "        somaValorCarro = somaValorCarro + valorCarro\n",
        "    media = somaValorCarro / proprietarios\n",
        "    print(f'\\na)....{contIsento} Carros foram isentos de impostos de IPVA.')\n",
        "    print(f'c)....A média dos valores dos veículos foi: {media:.2f}')\n",
        "    print(f'd)....Total dos IPVA pagos é: {somaIpva:.2f}')\n",
        "main()"
      ],
      "execution_count": null,
      "outputs": [
        {
          "output_type": "stream",
          "name": "stdout",
          "text": [
            "Informe o ano de fabricação do 1° veículo: 1993\n",
            "Veículo isento de IPVA.\n",
            "Informe o valor do 1° veículo: 15000\n",
            "Informe o ano de fabricação do 2° veículo: 2020\n",
            "Informe o tipo do 2° veículo (F,C,M,O,A): f\n",
            "Informe o valor do 2° veículo: 59000\n",
            "\n",
            "b)....O IPVA do 2° veículo é: 2360.00\n",
            "\n",
            "Informe o ano de fabricação do 3° veículo: 2022\n",
            "Informe o tipo do 3° veículo (F,C,M,O,A): o\n",
            "Informe o valor do 3° veículo: 78000\n",
            "\n",
            "b)....O IPVA do 3° veículo é: 1560.00\n",
            "\n",
            "Informe o ano de fabricação do 4° veículo: 2000\n",
            "Veículo isento de IPVA.\n",
            "Informe o valor do 4° veículo: 65000\n",
            "\n",
            "a)....2 Carros foram isentos de impostos de IPVA.\n",
            "c)....A média dos valores dos veículos foi: 54250.00\n",
            "d)....Total dos IPVA pagos é: 3920.00\n"
          ]
        }
      ]
    }
  ]
}