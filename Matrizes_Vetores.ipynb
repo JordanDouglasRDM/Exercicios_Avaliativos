{
  "nbformat": 4,
  "nbformat_minor": 0,
  "metadata": {
    "colab": {
      "provenance": [],
      "collapsed_sections": [],
      "include_colab_link": true
    },
    "kernelspec": {
      "name": "python3",
      "display_name": "Python 3"
    }
  },
  "cells": [
    {
      "cell_type": "markdown",
      "metadata": {
        "id": "view-in-github",
        "colab_type": "text"
      },
      "source": [
        "<a href=\"https://colab.research.google.com/github/JordanDouglasRDM/Avaliacao_nivel_iniciante/blob/main/P2_Python_Alg.ipynb\" target=\"_parent\"><img src=\"https://colab.research.google.com/assets/colab-badge.svg\" alt=\"Open In Colab\"/></a>"
      ]
    },
    {
      "cell_type": "markdown",
      "metadata": {
        "id": "_aPd4c1b3OjS"
      },
      "source": [
        "###Em Python, crie um programa que leia uma matriz de preços de produtos (float), com 3 linhas e 2 colunas.\n",
        "###Em outro bloco de estruturas de repetição mostre os preços dos produtos, no formato apresentado nos slides, com os valores dispostos em linhas separando os valores com tabulação e calcule/apresente a média dos preços de produtos.\n"
      ]
    },
    {
      "cell_type": "code",
      "metadata": {
        "id": "Q6LPIy_LCQuO",
        "colab": {
          "base_uri": "https://localhost:8080/"
        },
        "outputId": "3b471d22-d0d4-4942-c293-5f9049b9828f"
      },
      "source": [
        "cont = 0\n",
        "soma = 0\n",
        "media = 0\n",
        "matriz = []\n",
        "for lin in range(3):\n",
        "    linha = []\n",
        "    for col in range(2): \n",
        "        linha.append(float(input('Informe o preço do produto: R$')))\n",
        "        soma = soma + linha[col]\n",
        "        cont = cont + 1\n",
        "    matriz.append(linha)\n",
        "media = soma / cont\n",
        "print()\n",
        "print('Matriz dos preços: ')\n",
        "for lin in range(len(linha)):\n",
        "    for col in range(2): \n",
        "\t    print(matriz[lin][col], end='\\t')\n",
        "    print()\n",
        "print()\n",
        "print(f'A média dos preços é R${media:.2f}')"
      ],
      "execution_count": null,
      "outputs": [
        {
          "output_type": "stream",
          "name": "stdout",
          "text": [
            "Informe o preço do produto: R$10\n",
            "Informe o preço do produto: R$25\n",
            "Informe o preço do produto: R$55.50\n",
            "Informe o preço do produto: R$65\n",
            "Informe o preço do produto: R$18\n",
            "Informe o preço do produto: R$99.21\n",
            "\n",
            "Matriz dos preços: \n",
            "10.0\t25.0\t\n",
            "55.5\t65.0\t\n",
            "\n",
            "A média dos preços é R$45.45\n"
          ]
        }
      ]
    },
    {
      "cell_type": "markdown",
      "metadata": {
        "id": "DM0CBk9QpsVc"
      },
      "source": [
        "###**2** Foi realizada uma pesquisa sobre algumas características físicas de ALGUNS habitantes de uma região, NÃO FOI INFORMADA A QUANTIDADE TOTAL, então use como critério de parada, idade igual a zero para encerrar a repetição. Preste atenção nesse detalhe, pois somente poderá usar a função append, quando for digitado uma idade válida. \n",
        "\n",
        "###Foram coletados os seguintes dados de cada habitante: idade, gênero (M/F), cor dos olhos (A - azuis ou C - castanhos). Armazenar uma letra para a cor dos olhos e gênero. \n",
        "\n",
        "###Em Python crie um programa que leia esses dados, armazenando-os em vetores, um para idade, outro para gênero e outro para cor dos olhos.\n",
        "\n",
        "###Use as variáveis vetores, para realizar as comparações necessárias. Calcule e apresente:\n",
        "\n",
        "1.   Média de idades das pessoas com olhos castanhos;\n",
        "2.   Quantidade de pessoas que foram entrevistadas\n",
        "3. Quantidade de pessoas do gênero feminino com idade entre 18 e 35 anos e que tenham olhos azuis.\n"
      ]
    },
    {
      "cell_type": "code",
      "metadata": {
        "id": "9h5qTypQPa_l",
        "colab": {
          "base_uri": "https://localhost:8080/"
        },
        "outputId": "b869027c-4d0a-4621-cdea-5cfb703c60f7"
      },
      "source": [
        "cont3 = 0\n",
        "media = 0\n",
        "soma = 0\n",
        "cont = 0\n",
        "i = 1\n",
        "idade = []\n",
        "gen = []\n",
        "olhos = []\n",
        "while i > 0:\n",
        "    var = int(input('Informe sua idade: '))\n",
        "    if var == 0:\n",
        "        break\n",
        "    else:\n",
        "        idade.append(int(var))\n",
        "        gen.append(str(input('Informe o gênero (M/F): ')))\n",
        "        olhos.append(str(input('Infoeme a cor dos olhos (A/C): ')))\n",
        "for i in range(len(idade)):\n",
        "    if olhos[i] == 'c' or olhos[i] == 'C':\n",
        "        soma = soma + idade[i]\n",
        "        cont = cont + 1\n",
        "    if cont > 0:    \n",
        "        media = soma / cont\n",
        "    if gen[i] == 'f' or gen[i] == 'F':\n",
        "        if idade[i] >= 18 and idade[i] <= 35:\n",
        "            if olhos[i] == 'a' or olhos[i] == 'A':\n",
        "                cont3 = cont3 + 1\n",
        "print()\n",
        "print(f'A média das idades das pessoas com olhos castanhos é {media:.0f}.')\n",
        "print(f'{len(idade)} pessoas foram entrevistadas.')\n",
        "print(f'{cont3} pessoas são/é do sexo Feminino, tem idade entre 18 a 35 anos e possuem os olhos azuis. ')"
      ],
      "execution_count": null,
      "outputs": [
        {
          "output_type": "stream",
          "name": "stdout",
          "text": [
            "Informe sua idade: 12\n",
            "Informe o gênero (M/F): f\n",
            "Infoeme a cor dos olhos (A/C): a\n",
            "Informe sua idade: 15\n",
            "Informe o gênero (M/F): f\n",
            "Infoeme a cor dos olhos (A/C): c\n",
            "Informe sua idade: 16\n",
            "Informe o gênero (M/F): m\n",
            "Infoeme a cor dos olhos (A/C): a\n",
            "Informe sua idade: 17\n",
            "Informe o gênero (M/F): m\n",
            "Infoeme a cor dos olhos (A/C): c\n",
            "Informe sua idade: 18\n",
            "Informe o gênero (M/F): f\n",
            "Infoeme a cor dos olhos (A/C): a\n",
            "Informe sua idade: 20\n",
            "Informe o gênero (M/F): f\n",
            "Infoeme a cor dos olhos (A/C): c\n",
            "Informe sua idade: 21\n",
            "Informe o gênero (M/F): m\n",
            "Infoeme a cor dos olhos (A/C): a\n",
            "Informe sua idade: 22\n",
            "Informe o gênero (M/F): m\n",
            "Infoeme a cor dos olhos (A/C): c\n",
            "Informe sua idade: 0\n",
            "\n",
            "A média das idades das pessoas com olhos castanhos é 18.\n",
            "8 pessoas foram entrevistadas.\n",
            "1 pessoas são/é do sexo Feminino, tem idade entre 18 a 35 anos e possuem os olhos azuis. \n"
          ]
        }
      ]
    }
  ]
}
